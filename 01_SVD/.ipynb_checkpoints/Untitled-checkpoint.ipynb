{
 "cells": [
  {
   "cell_type": "markdown",
   "metadata": {},
   "source": [
    "# 特異値分解\n",
    "\n",
    "任意の $m \\times n$ 行列$A$を、 $A = U\\Sigma V$ のような積に分解することを特異値分解という.\n",
    "\n",
    "$U$は$m \\times m$の直交行列、 $V$ は $n \\times n$ の直交行列、 $\\Sigma$ は $m \\times n$ の非対角成分が$0$の行列. $\\Sigma$の非ゼロ成分のことを特異値と呼ぶ.\n",
    "\n",
    "(参考: [特異値分解の定義，性質，具体例](https://mathtrain.jp/svd))\n",
    "\n",
    "これが果たして何に役に立つのかというと、どうやら画像の圧縮や情報検索に応用されるようです. ここで、行列$A$が以下のように分解されるとしましょう:\n",
    "$$\n",
    "\\begin{eqnarray*}\n",
    "  A &=& \\left(\n",
    "   \\begin{array}{cc}\n",
    "   a & b \\\\\n",
    "   c & d \n",
    "   \\end{array}\n",
    "  \\right)\n",
    "  \\left(\n",
    "    \\begin{array}{ccc}\n",
    "      x & 0 & 0\\\\\n",
    "      0 & y & 0\n",
    "    \\end{array}\n",
    "  \\right)\n",
    "  \\left(\n",
    "    \\begin{array}{cc}\n",
    "      e & f\\\\\n",
    "      g & h\\\\\n",
    "      i & j\n",
    "    \\end{array}\n",
    "  \\right)\\\\\n",
    "  &=& x\\left(\n",
    "    \\begin{array}{c}\n",
    "      a \\\\\n",
    "      c \n",
    "    \\end{array}\n",
    "  \\right)\n",
    "  \\left(\n",
    "    \\begin{array}{cc}\n",
    "      e & f\n",
    "    \\end{array}\n",
    "  \\right)\n",
    "  + y\\left(\n",
    "    \\begin{array}{c}\n",
    "      b \\\\\n",
    "      d \n",
    "    \\end{array}\n",
    "  \\right)\n",
    "  \\left(\n",
    "    \\begin{array}{cc}\n",
    "      g & h\n",
    "    \\end{array}\n",
    "  \\right)\\\\\n",
    "  &=& xu_1v_1^{\\mathrm{T}} + yu_2v_2^{\\mathrm{T}}\n",
    "\\end{eqnarray*}\n",
    "$$\n",
    "行列$A$は 特異値を係数とする $u_kv_k^{\\mathrm{T}}$ という行列の線型結合で書けることになります.\n",
    "\n",
    "仮に画像が $408 \\times 200 = 81600{\\rm pix}$ だったとして、これを$200 \\times 408$行列$A$と見なします. $A$の特異値が$k$個だとすると、要素の個数は $k(200 + 408)$となります. $k$が少なければ情報量は大幅に削減できることになります.\n",
    "\n",
    "式を見てわかるとおり線型結合となる行列$u_kv_k^{\\mathrm{T}}$の重みは特異値になるので、大きい特異値の項のみを拾ってくるとさらに要素を圧縮できます. 具体的に画像の次元を削減してみましょう:\n"
   ]
  },
  {
   "cell_type": "code",
   "execution_count": null,
   "metadata": {
    "collapsed": false
   },
   "outputs": [
    {
     "name": "stdout",
     "output_type": "stream",
     "text": [
      "Singular values: [ 70325.90261891   2522.70275689   2038.5399065    1889.48437463\n",
      "   1787.74643761]\n"
     ]
    }
   ],
   "source": [
    "import numpy as np\n",
    "import matplotlib.pyplot as plt\n",
    "import copy\n",
    "\n",
    "\n",
    "with open('Toro.pgm', 'r') as f:\n",
    "    # Read from pgm file\n",
    "    A = f.readlines()\n",
    "    column, row = np.array(A[2].split(' ')).astype('int')\n",
    "    A = np.array(A[4:]).astype('int').reshape(row, column)\n",
    "\n",
    "U, s, V = np.linalg.svd(A, full_matrices=True)  # Execute SVD\n",
    "\n",
    "A_svd = np.zeros((row, column))\n",
    "A_svd_arr = []\n",
    "append_interval = np.array([10, 25, 50])\n",
    "\n",
    "for i, sigma in enumerate(s):\n",
    "    # Add terms in descending order\n",
    "    A_svd += s[i] * U[:, i:i+1] * V[i:i+1, :]\n",
    "    if np.any(append_interval == i):\n",
    "        A_svd_arr.append(copy.deepcopy(A_svd))\n",
    "\n",
    "print('Singular values: {}'.format(s[:5]))\n",
    "# >> Singular values: [ 70325.90261891, 2522.70275689, 2038.5399065, 1889.48437463, 1787.74643761]\n",
    "\n",
    "# Plot\n",
    "plt.figure(figsize=(7.5, 5))\n",
    "for i in range(3):\n",
    "    plt.subplot(2, 2, i+1, xticks=[], yticks=[])\n",
    "    plt.title('i = {0}, elements = {1}'.format(append_interval[i],\n",
    "                                               append_interval[i] * (row + column)))\n",
    "    plt.axis('off')\n",
    "    plt.imshow(A_svd_arr[i], cmap='gray', vmin=50, vmax=255)\n",
    "\n",
    "plt.subplot(2, 2, 4, xticks=[], yticks=[])\n",
    "plt.title('i = {0}, elements = {1} (original)'.format(len(s), row * column))\n",
    "plt.axis('off')\n",
    "plt.imshow(A, cmap='gray', vmin=50, vmax=255)\n",
    "\n",
    "plt.show()"
   ]
  },
  {
   "cell_type": "markdown",
   "metadata": {},
   "source": [
    "![Qiita](./fig01.png)\n",
    "\n",
    "次元を削りすぎると流石に荒っぽい画像になってしまいますが、半分くらい圧縮してもそんなに違和感ないですね.\n",
    "\n",
    "特異値分解は線形代数演算ライブラリのベンチマークとして用いられることも多く、線形代数では基本的な処理なのでしょうが、、、今回勉強して初めて応用例が理解できました. 画像の圧縮って案外簡単にできるんですね.\n",
    "\n",
    "(参考: [特異値分解とその応用](www.na.scitec.kobe-u.ac.jp/~yamamoto/lectures/cse.../cse-introduction090512.PPT))"
   ]
  }
 ],
 "metadata": {
  "anaconda-cloud": {},
  "kernelspec": {
   "display_name": "Python [Root]",
   "language": "python",
   "name": "Python [Root]"
  },
  "language_info": {
   "codemirror_mode": {
    "name": "ipython",
    "version": 3
   },
   "file_extension": ".py",
   "mimetype": "text/x-python",
   "name": "python",
   "nbconvert_exporter": "python",
   "pygments_lexer": "ipython3",
   "version": "3.5.2"
  }
 },
 "nbformat": 4,
 "nbformat_minor": 0
}
