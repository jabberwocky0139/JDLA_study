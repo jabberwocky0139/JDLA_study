{
 "cells": [
  {
   "cell_type": "markdown",
   "metadata": {
    "ein.tags": "worksheet-0",
    "slideshow": {
     "slide_type": "-"
    }
   },
   "source": [
    "# 一般的な確率分布\n",
    "機械学習で用いる確率分布についてです. コレ以外にもいろいろ使うとは思いますが.\n",
    "\n",
    "## ベルヌーイ分布\n",
    "定義は以下の通り:\n",
    "\n",
    "$f(k;\\ p) = p^k(1-p)^{1-k}\\ \\ {\\rm for}\\ k\\ \\in \\{0, 1\\}$\n",
    "\n",
    "事象$k$が起きる確率を$p$、起きない確率を$1-p$とするような確率分布. 事象が表裏一体になっています.\n",
    "\n",
    "たとえば、サイコロの目が3で割り切れる事象を1、3で割り切れない事象を0とすると、\n",
    "\n",
    "$f\\left(k;\\ p=\\frac{1}{3}\\right) = \\frac{1}{3}^k\\left(\\frac{2}{3}\\right)^{1-k}$\n",
    "\n",
    "2項分布に似ていますね.\n",
    "\n",
    "## マルチヌーイ分布\n",
    "定義は以下の通り:\n",
    "\n",
    "$p(n_1,...,\\ n_k) = \\cfrac{n!}{n_1!,...,\\ n_k!}\\ p_1^{n_1} ...\\ p_k^{n_k}$\n",
    "\n",
    "2項定理の拡張版で、高校でやった多項定理です.\n",
    "\n",
    "たとえば、サイコロを4回続けて投げるとき、1の目が2回、4の目が1回、5の目が1回出る確率は\n",
    "\n",
    "$p(2, 1, 1) = \\cfrac{4!}{2!1!1!}\\ \\left(\\frac{1}{6}\\right)^{2}\\left(\\frac{1}{6}\\right)^{1}\\left(\\frac{1}{6}\\right)^{1}$\n",
    "\n",
    "## ガウス分布\n",
    "定義は以下の通り:\n",
    "\n",
    "$f(x) = \\cfrac{1}{\\sqrt{2\\pi\\sigma^2}}\\ e^{-\\frac{(x-\\mu)^2}{2\\sigma^2}}$\n",
    "\n",
    "$\\mu$は分布の平均値、$\\sigma$は標準偏差.\n",
    "\n",
    "言わずもがな、最も大事な分布関数. 世界はガウシアンでできている.\n",
    "\n",
    "中心極限定理のおかげで、自然現象を含んだありとあらゆる場面で顔を見せます. 加えて関数としての性質もよく、複雑怪奇な計算に陥りやすい量子論のオアシスでもあります. VAEとかでも登場しますね.\n"
   ]
  },
  {
   "cell_type": "code",
   "execution_count": 1,
   "metadata": {
    "autoscroll": false,
    "collapsed": false,
    "ein.hycell": false,
    "ein.tags": "worksheet-0",
    "slideshow": {
     "slide_type": "-"
    }
   },
   "outputs": [
    {
     "data": {
      "text/plain": [
       "[<matplotlib.lines.Line2D at 0x7f7799238358>]"
      ]
     },
     "execution_count": 1,
     "metadata": {},
     "output_type": "execute_result"
    },
    {
     "data": {
      "image/png": "[encoded data removed]",
      "text/plain": [
       "<matplotlib.figure.Figure at 0x7f77c425e240>"
      ]
     },
     "metadata": {},
     "output_type": "display_data"
    }
   ],
   "source": [
    "%matplotlib inline\n",
    "import math as m\n",
    "import numpy as np\n",
    "import matplotlib.pyplot as plt\n",
    "\n",
    "x = np.linspace(-5, 5, 100)\n",
    "mu, sigma = 0, 1\n",
    "\n",
    "plt.plot(x, 1/m.sqrt(2 * m.pi * sigma**2) * np.exp(-(x - mu)**2 / (2 * sigma**2)))"
   ]
  },
  {
   "cell_type": "markdown",
   "metadata": {
    "ein.tags": "worksheet-0",
    "slideshow": {
     "slide_type": "-"
    }
   },
   "source": [
    "(参考: [一般的な確率分布](http://zakopilo.hatenablog.jp/entry/2017/11/06/214557))"
   ]
  }
 ],
 "metadata": {
  "kernelspec": {
   "display_name": "Python [Root]",
   "name": "Python [Root]"
  },
  "language_info": {
   "codemirror_mode": {
    "name": "ipython",
    "version": 3
   },
   "file_extension": ".py",
   "mimetype": "text/x-python",
   "name": "python",
   "nbconvert_exporter": "python",
   "pygments_lexer": "ipython3",
   "version": "3.5.2"
  },
  "name": "02_Distribution.ipynb"
 },
 "nbformat": 4,
 "nbformat_minor": 0
}
